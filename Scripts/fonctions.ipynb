{
 "cells": [
  {
   "cell_type": "code",
   "execution_count": 3,
   "metadata": {},
   "outputs": [
    {
     "data": {
      "text/plain": [
       "'monsite.com'"
      ]
     },
     "execution_count": 3,
     "metadata": {},
     "output_type": "execute_result"
    }
   ],
   "source": [
    "def ajout_suffixe(nom_site, suffixe='.com'):\n",
    "    return nom_site + suffixe\n",
    "ajout_suffixe('monsite')"
   ]
  },
  {
   "cell_type": "code",
   "execution_count": 4,
   "metadata": {},
   "outputs": [
    {
     "data": {
      "text/plain": [
       "'monsite.fr'"
      ]
     },
     "execution_count": 4,
     "metadata": {},
     "output_type": "execute_result"
    }
   ],
   "source": [
    "ajout_suffixe('monsite','.fr')"
   ]
  },
  {
   "cell_type": "markdown",
   "metadata": {},
   "source": [
    "### **kwargs"
   ]
  },
  {
   "cell_type": "code",
   "execution_count": 12,
   "metadata": {},
   "outputs": [
    {
     "name": "stdout",
     "output_type": "stream",
     "text": [
      "70.0\n"
     ]
    }
   ],
   "source": [
    "def conversion_euro_dollars(montant, taux = 1.2):\n",
    "    return montant / taux\n",
    "\n",
    "def conversion_somme(euro_list, **kwargs):\n",
    "    total = 0\n",
    "    for montant in euro_list:\n",
    "        total += conversion_euro_dollars(montant, **kwargs)\n",
    "    return total\n",
    "print(conversion_somme([1,5,8], taux = 0.2))\n",
    "        "
   ]
  },
  {
   "cell_type": "code",
   "execution_count": 13,
   "metadata": {},
   "outputs": [
    {
     "name": "stdout",
     "output_type": "stream",
     "text": [
      "Nom : Dupont, Prénom : Jean, Ville : \n",
      "Nom : Martin, Prénom : Marie, Ville : \n",
      "Nom : Durand, Prénom : Pierre, Ville : \n",
      "Nom : Dupond, Prénom : Jeanne, Ville : Paris\n",
      "Nom : Martin, Prénom : Paul, Ville : Lille\n",
      "Nom : Durand, Prénom : Sophie, Ville : Lyon\n",
      "Nom : Dupont, Prénom : François, Ville : Marseille\n",
      "Nom : Martin, Prénom : Anne, Ville : Nantes\n",
      "Nom : Durand, Prénom : Claire, Ville : Bordeaux\n",
      "0.00046387499969569035 seconds\n"
     ]
    }
   ],
   "source": [
    "import time\n",
    "start_time = time.perf_counter()\n",
    "\n",
    "liste_personnes = [\n",
    "    (\"Dupont\", \"Jean\"),\n",
    "    (\"Martin\", \"Marie\"),\n",
    "    (\"Durand\", \"Pierre\"),\n",
    "    (\"Dupond\", \"Jeanne\", \"Paris\"),\n",
    "    (\"Martin\", \"Paul\", \"Lille\"),\n",
    "    (\"Durand\", \"Sophie\", \"Lyon\"),\n",
    "    (\"Dupont\", \"François\", \"Marseille\"),\n",
    "    (\"Martin\", \"Anne\", \"Nantes\"),\n",
    "    (\"Durand\", \"Claire\", \"Bordeaux\")\n",
    "]\n",
    " \n",
    "# retour formaté avec f ou '{} {}'.format(prenom, nom)\n",
    " \n",
    "def listePersonneFormat(nom,prenom,**kwargs):\n",
    "    if \"ville\" in kwargs:\n",
    "        ville = kwargs['ville']\n",
    "        ville = ''.join(ville)\n",
    "        print(f'Nom : {nom}, Prénom : {prenom}, Ville : {ville}')\n",
    "    else:\n",
    "        print(f'Nom : {nom}, Prénom : {prenom}, Ville = None')\n",
    " \n",
    "# * devant un argument récupère après l'élément demandé, rendant ainsi \"facultatif\" le reste (voir ville)\n",
    " \n",
    "for nom,prenom,*ville in liste_personnes:\n",
    "    listePersonneFormat(nom,prenom,ville = ville)\n",
    "\n",
    "print(time.perf_counter() - start_time, \"seconds\")"
   ]
  }
 ],
 "metadata": {
  "kernelspec": {
   "display_name": "Python 3",
   "language": "python",
   "name": "python3"
  },
  "language_info": {
   "codemirror_mode": {
    "name": "ipython",
    "version": 3
   },
   "file_extension": ".py",
   "mimetype": "text/x-python",
   "name": "python",
   "nbconvert_exporter": "python",
   "pygments_lexer": "ipython3",
   "version": "3.12.0"
  }
 },
 "nbformat": 4,
 "nbformat_minor": 2
}
