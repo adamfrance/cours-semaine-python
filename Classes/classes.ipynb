{
 "cells": [
  {
   "cell_type": "code",
   "execution_count": 2,
   "metadata": {},
   "outputs": [
    {
     "data": {
      "text/plain": [
       "__main__.Australian"
      ]
     },
     "execution_count": 2,
     "metadata": {},
     "output_type": "execute_result"
    }
   ],
   "source": [
    "class Australian:\n",
    "    human = True\n",
    "    enjoy_sport = True\n",
    "    \n",
    "jack = Australian()\n",
    "type(jack)"
   ]
  },
  {
   "cell_type": "code",
   "execution_count": 3,
   "metadata": {},
   "outputs": [
    {
     "data": {
      "text/plain": [
       "['__module__',\n",
       " 'human',\n",
       " 'enjoy_sport',\n",
       " '__dict__',\n",
       " '__weakref__',\n",
       " '__doc__',\n",
       " '__new__',\n",
       " '__repr__',\n",
       " '__hash__',\n",
       " '__str__',\n",
       " '__getattribute__',\n",
       " '__setattr__',\n",
       " '__delattr__',\n",
       " '__lt__',\n",
       " '__le__',\n",
       " '__eq__',\n",
       " '__ne__',\n",
       " '__gt__',\n",
       " '__ge__',\n",
       " '__init__',\n",
       " '__reduce_ex__',\n",
       " '__reduce__',\n",
       " '__getstate__',\n",
       " '__subclasshook__',\n",
       " '__init_subclass__',\n",
       " '__format__',\n",
       " '__sizeof__',\n",
       " '__dir__',\n",
       " '__class__']"
      ]
     },
     "execution_count": 3,
     "metadata": {},
     "output_type": "execute_result"
    }
   ],
   "source": [
    "jack.__dir__()"
   ]
  },
  {
   "cell_type": "code",
   "execution_count": 4,
   "metadata": {},
   "outputs": [
    {
     "data": {
      "text/plain": [
       "True"
      ]
     },
     "execution_count": 4,
     "metadata": {},
     "output_type": "execute_result"
    }
   ],
   "source": [
    "jack.enjoy_sport"
   ]
  },
  {
   "cell_type": "code",
   "execution_count": 18,
   "metadata": {},
   "outputs": [],
   "source": [
    "class Chien:\n",
    "    \"\"\"\n",
    "    Une classe qui enregistre des informations sur des chiens\n",
    "    \"\"\"\n",
    "    def __init__(self, hauteur, couleur):\n",
    "        self.hauteur = hauteur\n",
    "        self.couleur = couleur\n",
    "        \n",
    "    def __repr__(self) -> str:\n",
    "        return f\"{type(self).__name__}(hauteur={self.hauteur}, couleur={self.couleur})\"\n",
    "        \n",
    "    humain = False\n",
    "    proprietaire = \"Jack\""
   ]
  },
  {
   "cell_type": "code",
   "execution_count": 20,
   "metadata": {},
   "outputs": [
    {
     "name": "stdout",
     "output_type": "stream",
     "text": [
      "50 marron\n"
     ]
    }
   ],
   "source": [
    "bill = Chien('50','marron')\n",
    "print(bill.hauteur, bill.couleur)"
   ]
  },
  {
   "cell_type": "code",
   "execution_count": 21,
   "metadata": {},
   "outputs": [
    {
     "data": {
      "text/plain": [
       "'Chien(hauteur=50, couleur=marron)'"
      ]
     },
     "execution_count": 21,
     "metadata": {},
     "output_type": "execute_result"
    }
   ],
   "source": [
    "bill.__repr__()"
   ]
  },
  {
   "cell_type": "markdown",
   "metadata": {},
   "source": [
    "## Arguments de mots-clés"
   ]
  },
  {
   "cell_type": "code",
   "execution_count": 38,
   "metadata": {},
   "outputs": [
    {
     "name": "stdout",
     "output_type": "stream",
     "text": [
      "la taille de la bordure est 5\n",
      "Class Circle : rayon -> 20, couleur -> red\n"
     ]
    },
    {
     "data": {
      "text/plain": [
       "'Le dessinateur de ce cercle est jacques'"
      ]
     },
     "execution_count": 38,
     "metadata": {},
     "output_type": "execute_result"
    }
   ],
   "source": [
    "import math\n",
    "class Circle:\n",
    "    is_shape = True\n",
    "    \n",
    "    # init est une méthode d'instance\n",
    "    def __init__(self, radius, color = 'red'):\n",
    "        self.radius = radius\n",
    "        self.color = color\n",
    "    \n",
    "    # str est une méthode d'instance qui écrase le print(<instance>)\n",
    "    def __str__(self) -> str:\n",
    "        return f\"Class Circle : rayon -> {self.radius}, couleur -> {self.color}\"\n",
    "        \n",
    "    # area est une méthode d'instance\n",
    "    def area(self, bordure = 2):\n",
    "        print(f\"la taille de la bordure est {bordure}\")\n",
    "        return math.pi  self.radius  2\n",
    "    \n",
    "    # dessinateur() est une méthode statique: ne transmet rien au paramètre self\n",
    "    @staticmethod\n",
    "    def dessinateur(nom_dessinateur):\n",
    "        return f'Le dessinateur de ce cercle est {nom_dessinateur}'\n",
    "        \n",
    "cercle1 = Circle(20)\n",
    "cercle1.color\n",
    "cercle1.area(5)\n",
    "print(cercle1) # utilisation de la méthode __str__\n",
    "cercle1.dessinateur('jacques')"
   ]
  },
  {
   "cell_type": "code",
   "execution_count": 23,
   "metadata": {},
   "outputs": [
    {
     "data": {
      "text/plain": [
       "{'radius': 20, 'color': 'red'}"
      ]
     },
     "execution_count": 23,
     "metadata": {},
     "output_type": "execute_result"
    }
   ],
   "source": [
    "cercle1.__dict__"
   ]
  },
  {
   "cell_type": "code",
   "execution_count": 52,
   "metadata": {},
   "outputs": [
    {
     "data": {
      "text/plain": [
       "datetime.date"
      ]
     },
     "execution_count": 52,
     "metadata": {},
     "output_type": "execute_result"
    }
   ],
   "source": [
    "import datetime\n",
    "class Diary:\n",
    "    def __init__(self, birthday, jourFerie):\n",
    "        self.birthday = birthday\n",
    "        self.jourFerie = jourFerie\n",
    "    \n",
    "    @staticmethod\n",
    "    def format_date(date):\n",
    "        return date.strftime('%d-%b-%y')\n",
    "    \n",
    "    def afficheBirthday(self):\n",
    "        return self.format_date(self.birthday)\n",
    "    \n",
    "    def afficheJourFerie(self):\n",
    "        return self.format_date(self.jourFerie)\n",
    "    \n",
    "mon_agenda = Diary(datetime.date(2024, 1, 12), datetime.date(2024, 2, 14))\n",
    "mon_agenda.afficheJourFerie()\n",
    "type(datetime.date(2024, 1, 12))"
   ]
  },
  {
   "cell_type": "markdown",
   "metadata": {},
   "source": [
    "## Méthodes de classe\n",
    "- Avec un décorateur @classmethod, c'est la classe elle-même qui est utilisée"
   ]
  },
  {
   "cell_type": "code",
   "execution_count": 70,
   "metadata": {},
   "outputs": [
    {
     "data": {
      "text/plain": [
       "'12-Jan-24'"
      ]
     },
     "execution_count": 70,
     "metadata": {},
     "output_type": "execute_result"
    }
   ],
   "source": [
    "import datetime\n",
    "class Diary:\n",
    "    format_agenda = 'A3'\n",
    "    \n",
    "    def __init__(self, birthday, jourFerie, materiau):\n",
    "        self.birthday = birthday\n",
    "        self.jourFerie = jourFerie\n",
    "        self.materiau = materiau\n",
    "    \n",
    "    # méthode de classe qui surcharge toutes les instanciations\n",
    "    @classmethod\n",
    "    def create_diary_cuir(cls, birthday, jourFerie, materiau):\n",
    "        materiau = 'joli ' + materiau\n",
    "        return cls(birthday, jourFerie, materiau)\n",
    "    \n",
    "    @staticmethod # peut fournir une méthode pour la factorisation, ou support de code\n",
    "    def format_date(date):\n",
    "        return date.strftime('%d-%b-%y')\n",
    "    \n",
    "    def afficheBirthday(self):\n",
    "        return self.format_date(self.birthday)\n",
    "    \n",
    "    def afficheJourFerie(self):\n",
    "        return self.format_date(self.jourFerie)\n",
    "    \n",
    "mon_agenda = Diary.create_diary_cuir(datetime.date(2024, 1, 12), datetime.date(2024, 2, 14), 'papier')\n",
    "mon_agenda.materiau\n",
    "mon_agenda.afficheBirthday()\n"
   ]
  },
  {
   "cell_type": "markdown",
   "metadata": {},
   "source": [
    "## Property : gestion des attributs"
   ]
  },
  {
   "cell_type": "code",
   "execution_count": 78,
   "metadata": {},
   "outputs": [
    {
     "data": {
      "text/plain": [
       "32.0"
      ]
     },
     "execution_count": 78,
     "metadata": {},
     "output_type": "execute_result"
    }
   ],
   "source": [
    "class Temperature:\n",
    "    def __init__(self, celsius):\n",
    "        self.celsius = celsius\n",
    "    \n",
    "    @property # permet d'appeler fahrenheit comme un attribut\n",
    "    def fahrenheit(self):\n",
    "        return self.celsius  9 / 5 + 32\n",
    "        \n",
    "\n",
    "froid = Temperature(0)\n",
    "froid.fahrenheit"
   ]
  },
  {
   "cell_type": "markdown",
   "metadata": {},
   "source": [
    "## Héritage\n",
    "- But: transmettre des attributs et des méthodes de classes parentes vers classes enfantes"
   ]
  },
  {
   "cell_type": "code",
   "execution_count": 80,
   "metadata": {},
   "outputs": [
    {
     "data": {
      "text/plain": [
       "'toto'"
      ]
     },
     "execution_count": 80,
     "metadata": {},
     "output_type": "execute_result"
    }
   ],
   "source": [
    "class Pet:\n",
    "    def __init__(self, name, poids):\n",
    "        self.name = name\n",
    "        self.poids = poids\n",
    "\n",
    "class Cat(Pet):\n",
    "    is_feline = True\n",
    "\n",
    "        \n",
    "class Dog(Pet):\n",
    "    is_feline = False\n",
    "    \n",
    "myDog = Dog('toto', 30)\n",
    "myDog.name"
   ]
  },
  {
   "cell_type": "code",
   "execution_count": 81,
   "metadata": {},
   "outputs": [
    {
     "data": {
      "text/plain": [
       "True"
      ]
     },
     "execution_count": 81,
     "metadata": {},
     "output_type": "execute_result"
    }
   ],
   "source": [
    "# utilisation des packages Python\n",
    "class myInt(int):\n",
    "    def divisible_par(self, x):\n",
    "        return self % x == 0\n",
    "    \n",
    "a = myInt(8)\n",
    "a.divisible_par(2)"
   ]
  },
  {
   "cell_type": "code",
   "execution_count": 83,
   "metadata": {},
   "outputs": [
    {
     "ename": "ValueError",
     "evalue": "too many values to unpack (expected 2)",
     "output_type": "error",
     "traceback": [
      "\u001b[0;31m---------------------------------------------------------------------------\u001b[0m",
      "\u001b[0;31mValueError\u001b[0m                                Traceback (most recent call last)",
      "Cell \u001b[0;32mIn[83], line 17\u001b[0m\n\u001b[1;32m     14\u001b[0m         \u001b[38;5;28mself\u001b[39m\u001b[38;5;241m.\u001b[39mnom \u001b[38;5;241m=\u001b[39m nom\n\u001b[1;32m     16\u001b[0m person1 \u001b[38;5;241m=\u001b[39m Person(\u001b[38;5;124m'\u001b[39m\u001b[38;5;124mJean\u001b[39m\u001b[38;5;124m'\u001b[39m, \u001b[38;5;124m'\u001b[39m\u001b[38;5;124mDupont\u001b[39m\u001b[38;5;124m'\u001b[39m)\n\u001b[0;32m---> 17\u001b[0m \u001b[43mperson1\u001b[49m\u001b[38;5;241;43m.\u001b[39;49m\u001b[43mnom_complet\u001b[49m \u001b[38;5;241m=\u001b[39m \u001b[38;5;124m'\u001b[39m\u001b[38;5;124mJean Pierre Dupont\u001b[39m\u001b[38;5;124m'\u001b[39m\n",
      "Cell \u001b[0;32mIn[83], line 12\u001b[0m, in \u001b[0;36mPerson.nom_complet\u001b[0;34m(self, nomComplet)\u001b[0m\n\u001b[1;32m     10\u001b[0m \u001b[38;5;129m@nom_complet\u001b[39m\u001b[38;5;241m.\u001b[39msetter\n\u001b[1;32m     11\u001b[0m \u001b[38;5;28;01mdef\u001b[39;00m \u001b[38;5;21mnom_complet\u001b[39m(\u001b[38;5;28mself\u001b[39m, nomComplet):\n\u001b[0;32m---> 12\u001b[0m     prenom, nom \u001b[38;5;241m=\u001b[39m nomComplet\u001b[38;5;241m.\u001b[39msplit(\u001b[38;5;124m'\u001b[39m\u001b[38;5;124m \u001b[39m\u001b[38;5;124m'\u001b[39m)\n\u001b[1;32m     13\u001b[0m     \u001b[38;5;28mself\u001b[39m\u001b[38;5;241m.\u001b[39mprenom \u001b[38;5;241m=\u001b[39m prenom\n\u001b[1;32m     14\u001b[0m     \u001b[38;5;28mself\u001b[39m\u001b[38;5;241m.\u001b[39mnom \u001b[38;5;241m=\u001b[39m nom\n",
      "\u001b[0;31mValueError\u001b[0m: too many values to unpack (expected 2)"
     ]
    }
   ],
   "source": [
    "class Person:\n",
    "    def __init__(self, nom, prenom):\n",
    "        self.nom = nom\n",
    "        self.prenom = prenom\n",
    "        \n",
    "    @property\n",
    "    def nom_complet(self):\n",
    "        return f\"{self.prenom} {self.nom}\"\n",
    "    \n",
    "    @nom_complet.setter\n",
    "    def nom_complet(self, nomComplet):\n",
    "        prenom, nom = nomComplet.split(' ')\n",
    "        self.prenom = prenom\n",
    "        self.nom = nom\n",
    "        \n",
    "person1 = Person('Jean', 'Dupont')\n",
    "person1.nom_complet = 'Jean Pierre Dupont'"
   ]
  },
  {
   "cell_type": "code",
   "execution_count": null,
   "metadata": {},
   "outputs": [],
   "source": [
    "class troisNomsPerson(Person):\n",
    "    @property\n",
    "    def nom_complet(self):\n",
    "        return f\"{self.prenom} {self.nom}\"\n",
    "    \n",
    "    @nom_complet.setter\n",
    "    def nom_complet(self, nomComplet):\n",
    "        noms = nomComplet.split(' ')\n",
    "        self.prenom = noms[0]\n",
    "        if len(noms) > 2:\n",
    "            self.nom = ' '.join(noms[1:])\n",
    "        elif len(noms) == 2:\n",
    "            self.nom = noms[1]"
   ]
  },
  {
   "cell_type": "markdown",
   "metadata": {},
   "source": [
    "#### avec super(): évite de tout réécrire"
   ]
  },
  {
   "cell_type": "code",
   "execution_count": 84,
   "metadata": {},
   "outputs": [],
   "source": [
    "class Person:\n",
    "    def __init__(self, nom, prenom):\n",
    "        self.nom = nom\n",
    "        self.prenom = prenom\n",
    "        \n",
    "    def parle(self):\n",
    "        print('Bonjour mon prenom est', self.prenom)\n",
    "        \n",
    "class PersonBavarde(Person):\n",
    "    def __init__(self, nom, prenom, adresse):\n",
    "        self.adresse = adresse\n",
    "        super().__init__(nom, prenom)\n",
    "        \n",
    "    def parle(self):\n",
    "        super().parle()\n",
    "        print('Enchanté de vous rencontrer')"
   ]
  },
  {
   "cell_type": "markdown",
   "metadata": {},
   "source": [
    "## Héritage Multiple\n",
    "- Une classe hérite de plusieurs autres classes"
   ]
  },
  {
   "cell_type": "code",
   "execution_count": 95,
   "metadata": {},
   "outputs": [
    {
     "name": "stdout",
     "output_type": "stream",
     "text": [
      "Laisse moi jouer à la console\n",
      "Notez que vous avez rdv avec un autre enfant\n",
      "Rendez-vous le:  2024-01-03\n",
      "Bonjour mon prénom est  Sanchez\n",
      "Rendez-vous le:  2024-01-03\n"
     ]
    }
   ],
   "source": [
    "import datetime\n",
    "from abc import ABC, abstractmethod\n",
    "\n",
    "class Person(ABC):\n",
    "    def __init__(self, nom, prenom):\n",
    "        self.nom = nom\n",
    "        self.prenom = prenom\n",
    "    \n",
    "    @abstractmethod  \n",
    "    def marche():\n",
    "        print('je marche')\n",
    "        \n",
    "class Enfant(Person):\n",
    "    def parle(self):\n",
    "        print('Laisse moi jouer à la console')\n",
    "        \n",
    "class Adulte(Person):\n",
    "    def parle(self):\n",
    "        print('Bonjour mon prénom est ', self.prenom)\n",
    "        \n",
    "class Agenda:\n",
    "    def rendez_vous(self, date):\n",
    "        print('Rendez-vous le: ', date)\n",
    "        \n",
    "class AdulteOrganise(Adulte, Agenda):\n",
    "    pass\n",
    "\n",
    "class EnfantOrganise(Enfant, Agenda):\n",
    "    def rendez_vous(self, date):\n",
    "        print('Notez que vous avez rdv avec un autre enfant')\n",
    "        super().rendez_vous(date)\n",
    "\n",
    "person1 = Person()\n",
    "\n",
    "\n",
    "\n",
    "André = AdulteOrganise('André', 'Sanchez')\n",
    "Boris = EnfantOrganise('Boris', 'Delaplaya')\n",
    "\n",
    "Boris.parle()\n",
    "Boris.rendez_vous(datetime.date(2024, 1,3))\n",
    "\n",
    "André.parle()\n",
    "André.rendez_vous(datetime.date(2024, 1,3))"
   ]
  }
 ],
 "metadata": {
  "kernelspec": {
   "display_name": "Python 3",
   "language": "python",
   "name": "python3"
  },
  "language_info": {
   "codemirror_mode": {
    "name": "ipython",
    "version": 3
   },
   "file_extension": ".py",
   "mimetype": "text/x-python",
   "name": "python",
   "nbconvert_exporter": "python",
   "pygments_lexer": "ipython3",
   "version": "3.12.0"
  }
 },
 "nbformat": 4,
 "nbformat_minor": 2
}
