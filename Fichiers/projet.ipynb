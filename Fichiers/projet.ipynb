{
 "cells": [
  {
   "cell_type": "code",
   "execution_count": 3,
   "metadata": {},
   "outputs": [
    {
     "data": {
      "text/plain": [
       "'The Project Gutenberg EBook of Pride and Prejudice, a play, by \\nMary Keith Medbery Mackaye\\n\\nThis eBook is for the use of anyone anywhere at no cost and with\\nalmost no restrictions whatsoever.  You may copy it, give it away or\\nre-use it under the terms of the Project Gutenberg License included\\nwith this eBook or online at www.gutenberg.org\\n\\n\\nTitle: Pride and Prejudice, a play\\n\\nAuthor: Mary Keith Medbery Mackaye\\n\\nRelease Date: September 15, 2011 [EBook #37431]\\n\\nLanguage: English\\n\\n\\n*** START OF THIS PROJECT GUTENBERG EBOOK PRIDE AND PREJUDICE, A PLAY ***\\n\\n\\n\\n\\nProduced by Chuck Greif and the Online Distributed\\nProofreading Team at http://www.pgdp.net (This book was\\nproduced from scanned images of public domain material\\nfrom the Internet Archive.)\\n'"
      ]
     },
     "execution_count": 3,
     "metadata": {},
     "output_type": "execute_result"
    }
   ],
   "source": [
    "f = open('projet.txt')\n",
    "text = f.read()\n",
    "f.close()"
   ]
  },
  {
   "cell_type": "code",
   "execution_count": 5,
   "metadata": {},
   "outputs": [
    {
     "name": "stdout",
     "output_type": "stream",
     "text": [
      "The P\n",
      "roject Gutenberg EBook of Pride and Prejudice, a play, by \n",
      "\n"
     ]
    }
   ],
   "source": [
    "with open(\"projet.txt\", encoding=\"utf-8\") as f:\n",
    "    print(f.read(5))\n",
    "    print(f.readline())"
   ]
  },
  {
   "cell_type": "code",
   "execution_count": 13,
   "metadata": {},
   "outputs": [],
   "source": [
    "f = open('log.txt', 'w', encoding=\"utf-8\")"
   ]
  },
  {
   "cell_type": "code",
   "execution_count": 14,
   "metadata": {},
   "outputs": [
    {
     "name": "stdout",
     "output_type": "stream",
     "text": [
      "20240130_16:46:43– 0\n",
      "20240130_16:46:44– 1\n",
      "20240130_16:46:45– 2\n",
      "20240130_16:46:46– 3\n",
      "20240130_16:46:47– 4\n",
      "20240130_16:46:48– 5\n",
      "20240130_16:46:49– 6\n",
      "20240130_16:46:50– 7\n",
      "20240130_16:46:51– 8\n",
      "20240130_16:46:52– 9\n"
     ]
    }
   ],
   "source": [
    "from datetime import datetime\n",
    "import time\n",
    "for i in range(0,10):\n",
    "    print(datetime.now().strftime(\"%Y%m%d_%H:%M:%S–\"), i)\n",
    "    f.write(datetime.now().strftime(\"%Y%m%d_%H:%M:%S–\"))\n",
    "    time.sleep(1)\n",
    "    f.write(str(i))\n",
    "    f.write(\"\\n\")\n",
    "f.close()"
   ]
  }
 ],
 "metadata": {
  "kernelspec": {
   "display_name": "Python 3",
   "language": "python",
   "name": "python3"
  },
  "language_info": {
   "codemirror_mode": {
    "name": "ipython",
    "version": 3
   },
   "file_extension": ".py",
   "mimetype": "text/x-python",
   "name": "python",
   "nbconvert_exporter": "python",
   "pygments_lexer": "ipython3",
   "version": "3.12.0"
  }
 },
 "nbformat": 4,
 "nbformat_minor": 2
}
