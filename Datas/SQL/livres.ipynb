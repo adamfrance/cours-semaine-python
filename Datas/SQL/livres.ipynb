{
 "cells": [
  {
   "cell_type": "code",
   "execution_count": 1,
   "metadata": {},
   "outputs": [
    {
     "name": "stdout",
     "output_type": "stream",
     "text": [
      "[('2023-1-12', 'Le voyage', 19.99, 1.0), ('2023-1-12', 'Le voyage', 19.99, 2.0), ('2023-1-12', 'Le voyage', 19.99, 3.0), ('2023-1-12', 'Le voyage', 19.99, 4.0), ('2023-1-12', 'Le voyage', 19.99, 1.0), ('2023-1-12', 'Le voyage', 19.99, 2.0), ('2023-1-12', 'Le voyage', 19.99, 3.0), ('2023-1-12', 'Le voyage', 19.99, 4.0)]\n"
     ]
    }
   ],
   "source": [
    "book_data = [\n",
    "    ('2023-1-12', 'Le voyage', 19.99, 1),\n",
    "    ('2023-1-12', 'Le voyage', 19.99, 2),\n",
    "    ('2023-1-12', 'Le voyage', 19.99, 3),\n",
    "    ('2023-1-12', 'Le voyage', 19.99, 4),\n",
    "]\n",
    "import sqlite3\n",
    "connection = sqlite3.connect(\"books.db\")\n",
    "cursor = connection.cursor()\n",
    "\n",
    "cursor.execute('''CREATE TABLE if not exists books_sales\n",
    "               (date text, book_title text, price real, quantity real)''')\n",
    "cursor.executemany(\"INSERT INTO books_sales VALUES (?,?,?,?);\", book_data[0:])\n",
    "connection.commit()\n",
    "\n",
    "cursor.execute('SELECT * FROM books_sales;')\n",
    "print(cursor.fetchall())"
   ]
  },
  {
   "cell_type": "code",
   "execution_count": 3,
   "metadata": {},
   "outputs": [
    {
     "data": {
      "text/plain": [
       "<sqlite3.Cursor at 0x1069dc040>"
      ]
     },
     "execution_count": 3,
     "metadata": {},
     "output_type": "execute_result"
    }
   ],
   "source": [
    "cursor.execute('DROP TABLE books_sales;')"
   ]
  },
  {
   "cell_type": "code",
   "execution_count": null,
   "metadata": {},
   "outputs": [],
   "source": []
  }
 ],
 "metadata": {
  "kernelspec": {
   "display_name": "Python 3",
   "language": "python",
   "name": "python3"
  },
  "language_info": {
   "codemirror_mode": {
    "name": "ipython",
    "version": 3
   },
   "file_extension": ".py",
   "mimetype": "text/x-python",
   "name": "python",
   "nbconvert_exporter": "python",
   "pygments_lexer": "ipython3",
   "version": "3.12.0"
  }
 },
 "nbformat": 4,
 "nbformat_minor": 2
}
