{
 "cells": [
  {
   "cell_type": "code",
   "execution_count": 1,
   "metadata": {},
   "outputs": [
    {
     "name": "stdout",
     "output_type": "stream",
     "text": [
      "{\"books\": 12, \"articles\": 100, \"subjects\": [\"math\", \"programing\", \"python\"]}\n"
     ]
    }
   ],
   "source": [
    "infos = {\n",
    "    'books': 12,\n",
    "    'articles': 100,\n",
    "    'subjects': [\n",
    "        'math',\n",
    "        'programing',\n",
    "        'python'\n",
    "    ]\n",
    "}\n",
    "\n",
    "import json # simplejson, ujson\n",
    "# pour envoyer un json à une api\n",
    "json_string = json.dumps(infos)\n",
    "print(json_string)"
   ]
  },
  {
   "cell_type": "code",
   "execution_count": 2,
   "metadata": {},
   "outputs": [
    {
     "name": "stdout",
     "output_type": "stream",
     "text": [
      "{'books': 12, 'articles': 100, 'subjects': ['math', 'programing', 'python']}\n"
     ]
    }
   ],
   "source": [
    "data_infos = json.loads(json_string)\n",
    "print(data_infos)"
   ]
  },
  {
   "cell_type": "code",
   "execution_count": 3,
   "metadata": {},
   "outputs": [],
   "source": [
    "with open('reading.json', 'w') as f:\n",
    "    json.dump(data_infos, f)"
   ]
  },
  {
   "cell_type": "code",
   "execution_count": 6,
   "metadata": {},
   "outputs": [
    {
     "name": "stdout",
     "output_type": "stream",
     "text": [
      "{'books': 12, 'articles': 100, 'subjects': ['math', 'programing', 'python']}\n"
     ]
    }
   ],
   "source": [
    "with open('reading.json') as f:\n",
    "    datas_fichier = json.load(f)\n",
    "print(datas_fichier)\n"
   ]
  }
 ],
 "metadata": {
  "kernelspec": {
   "display_name": "Python 3",
   "language": "python",
   "name": "python3"
  },
  "language_info": {
   "codemirror_mode": {
    "name": "ipython",
    "version": 3
   },
   "file_extension": ".py",
   "mimetype": "text/x-python",
   "name": "python",
   "nbconvert_exporter": "python",
   "pygments_lexer": "ipython3",
   "version": "3.12.0"
  }
 },
 "nbformat": 4,
 "nbformat_minor": 2
}
