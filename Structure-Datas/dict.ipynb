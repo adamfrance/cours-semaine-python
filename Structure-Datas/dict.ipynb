{
 "cells": [
  {
   "cell_type": "code",
   "execution_count": 2,
   "metadata": {},
   "outputs": [
    {
     "name": "stdout",
     "output_type": "stream",
     "text": [
      "Jean\n"
     ]
    }
   ],
   "source": [
    "employé = {\n",
    "    'name': 'Jean',\n",
    "    'age': 32,\n",
    "    'department': \"ventes\",\n",
    "    'année': 2023,\n",
    "    'taux': 2.4\n",
    "}\n",
    "print(employé['name'])"
   ]
  },
  {
   "cell_type": "code",
   "execution_count": 3,
   "metadata": {},
   "outputs": [],
   "source": [
    "employé['taux'] = (employé['taux'] + 7) / 5"
   ]
  },
  {
   "cell_type": "code",
   "execution_count": 6,
   "metadata": {},
   "outputs": [
    {
     "name": "stdout",
     "output_type": "stream",
     "text": [
      "{'adresse': 'rue de mouveaux tourcoing', 'code postal': 59200, 'voitures': ['fiat', 'bmw'], 'enfants': {'enfant1': 'pierre', 'enfant2': 'jacques'}}\n"
     ]
    }
   ],
   "source": [
    "personne = {}\n",
    "personne['adresse'] = 'rue de mouveaux tourcoing'\n",
    "personne['code postal'] = 59200\n",
    "personne['voitures'] = ['fiat', 'bmw']\n",
    "personne['enfants'] = { \n",
    "                       'enfant1': 'pierre', \n",
    "                       'enfant2': 'jacques'\n",
    "                       }\n",
    "print(personne)"
   ]
  },
  {
   "cell_type": "code",
   "execution_count": 7,
   "metadata": {},
   "outputs": [
    {
     "name": "stdout",
     "output_type": "stream",
     "text": [
      "dict_values(['rue de mouveaux tourcoing', 59200, ['fiat', 'bmw'], {'enfant1': 'pierre', 'enfant2': 'jacques'}])\n"
     ]
    }
   ],
   "source": [
    "print(personne.values())"
   ]
  },
  {
   "cell_type": "code",
   "execution_count": 9,
   "metadata": {},
   "outputs": [
    {
     "name": "stdout",
     "output_type": "stream",
     "text": [
      "4\n"
     ]
    }
   ],
   "source": [
    "print(len(personne.keys()))"
   ]
  },
  {
   "cell_type": "code",
   "execution_count": 15,
   "metadata": {},
   "outputs": [
    {
     "name": "stdout",
     "output_type": "stream",
     "text": [
      "adresse\n",
      "code postal\n",
      "voitures\n",
      "enfants\n"
     ]
    }
   ],
   "source": [
    "for item in personne:\n",
    "    print(item)"
   ]
  },
  {
   "cell_type": "code",
   "execution_count": null,
   "metadata": {},
   "outputs": [],
   "source": []
  }
 ],
 "metadata": {
  "kernelspec": {
   "display_name": "Python 3",
   "language": "python",
   "name": "python3"
  },
  "language_info": {
   "codemirror_mode": {
    "name": "ipython",
    "version": 3
   },
   "file_extension": ".py",
   "mimetype": "text/x-python",
   "name": "python",
   "nbconvert_exporter": "python",
   "pygments_lexer": "ipython3",
   "version": "3.12.0"
  }
 },
 "nbformat": 4,
 "nbformat_minor": 2
}
