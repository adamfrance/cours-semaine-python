{
  "cells": [
    {
      "cell_type": "markdown",
      "metadata": {},
      "source": [
        "## Listes: "
      ]
    },
    {
      "cell_type": "code",
      "execution_count": 3,
      "metadata": {},
      "outputs": [
        {
          "name": "stdout",
          "output_type": "stream",
          "text": [
            "bananes\n",
            "épices\n",
            "pâtes\n",
            "True\n",
            "3\n",
            "[1, 2, 3]\n"
          ]
        },
        {
          "data": {
            "text/plain": [
              "list"
            ]
          },
          "execution_count": 3,
          "metadata": {},
          "output_type": "execute_result"
        }
      ],
      "source": [
        "courses = [\"bananes\", \"épices\", \"pâtes\", True, 3, [1,2,3]]\n",
        "for item in courses:\n",
        "    print(item)\n",
        "type(courses)"
      ]
    },
    {
      "cell_type": "code",
      "execution_count": 4,
      "metadata": {},
      "outputs": [
        {
          "data": {
            "text/plain": [
              "6"
            ]
          },
          "execution_count": 4,
          "metadata": {},
          "output_type": "execute_result"
        }
      ],
      "source": [
        "len(courses)"
      ]
    },
    {
      "cell_type": "code",
      "execution_count": 5,
      "metadata": {},
      "outputs": [
        {
          "data": {
            "text/plain": [
              "['bananes', 'épices', 'pâtes', True, 3, [1, 2, 3], 'café', 'laitue']"
            ]
          },
          "execution_count": 5,
          "metadata": {},
          "output_type": "execute_result"
        }
      ],
      "source": [
        "ajout_courses = ['café', 'laitue']\n",
        "courses_finales = courses + ajout_courses\n",
        "courses_finales"
      ]
    },
    {
      "cell_type": "code",
      "execution_count": 8,
      "metadata": {},
      "outputs": [
        {
          "data": {
            "text/plain": [
              "2"
            ]
          },
          "execution_count": 8,
          "metadata": {},
          "output_type": "execute_result"
        }
      ],
      "source": [
        "courses[1]\n",
        "courses[5][1]"
      ]
    },
    {
      "cell_type": "code",
      "execution_count": 9,
      "metadata": {},
      "outputs": [
        {
          "data": {
            "text/plain": [
              "['épices', 'pâtes']"
            ]
          },
          "execution_count": 9,
          "metadata": {},
          "output_type": "execute_result"
        }
      ],
      "source": [
        "courses[1:3]"
      ]
    },
    {
      "cell_type": "code",
      "execution_count": 10,
      "metadata": {},
      "outputs": [
        {
          "data": {
            "text/plain": [
              "['bananes', 'épices', 'pâtes', True, 3, [1, 2, 3], 'pommes']"
            ]
          },
          "execution_count": 10,
          "metadata": {},
          "output_type": "execute_result"
        }
      ],
      "source": [
        "courses.append(\"pommes\")\n",
        "courses"
      ]
    },
    {
      "cell_type": "code",
      "execution_count": 11,
      "metadata": {},
      "outputs": [
        {
          "data": {
            "text/plain": [
              "['bananes', 'fromage', 'épices', 'pâtes', True, 3, [1, 2, 3], 'pommes']"
            ]
          },
          "execution_count": 11,
          "metadata": {},
          "output_type": "execute_result"
        }
      ],
      "source": [
        "courses.insert(1,'fromage')\n",
        "courses"
      ]
    },
    {
      "cell_type": "code",
      "execution_count": 15,
      "metadata": {},
      "outputs": [
        {
          "data": {
            "text/plain": [
              "[1, 4, 529, 576, 9604, 5776]"
            ]
          },
          "execution_count": 15,
          "metadata": {},
          "output_type": "execute_result"
        }
      ],
      "source": [
        "nombres = [1,2,23,24,98,76]\n",
        "nombres_carres = []\n",
        "for i in nombres:\n",
        "    nombres_carres.append(i2)\n",
        "nombres_carres"
      ]
    },
    {
      "cell_type": "code",
      "execution_count": 13,
      "metadata": {},
      "outputs": [
        {
          "data": {
            "text/plain": [
              "5"
            ]
          },
          "execution_count": 13,
          "metadata": {},
          "output_type": "execute_result"
        }
      ],
      "source": [
        "# matrice\n",
        "m = [[5,7,8],[9,2,7]]\n",
        "m[0][0]"
      ]
    },
    {
      "cell_type": "code",
      "execution_count": 14,
      "metadata": {},
      "outputs": [
        {
          "name": "stdout",
          "output_type": "stream",
          "text": [
            "5\n",
            "7\n",
            "8\n",
            "9\n",
            "2\n",
            "7\n"
          ]
        }
      ],
      "source": [
        "for i in range(len(m)):\n",
        "    for j in range(len(m[i])):\n",
        "        print(m[i][j])"
      ]
    },
    {
      "cell_type": "code",
      "execution_count": 17,
      "metadata": {},
      "outputs": [
        {
          "name": "stdout",
          "output_type": "stream",
          "text": [
            "5\n",
            "7\n",
            "8\n",
            "9\n",
            "2\n",
            "7\n"
          ]
        }
      ],
      "source": [
        "for truc in m:\n",
        "    for col in truc:\n",
        "        print(col)"
      ]
    },
    {
      "cell_type": "code",
      "execution_count": 25,
      "metadata": {},
      "outputs": [
        {
          "name": "stdout",
          "output_type": "stream",
          "text": [
            "Nom:  Jean\n",
            "Age:  42\n",
            "Localisation:  Ventes\n",
            "\n",
            "Nom:  Jacques\n",
            "Age:  12\n",
            "Localisation:  École\n",
            "\n",
            "Nom:  Pierre\n",
            "Age:  5\n",
            "Localisation:  Maternelle\n",
            "\n",
            "Nom:  Jean\n",
            "Age:  42\n",
            "Localisation:  Ventes\n",
            "\n"
          ]
        }
      ],
      "source": [
        "# Exercice: Tableau à deux dimensions\n",
        "datas = [['Jean',42,'Ventes'],['Jacques',12,'École'],['Pierre',5, 'Maternelle']]\n",
        "for personne in datas:\n",
        "    print(\"Nom: \", personne[0])\n",
        "    print(\"Age: \",personne[1])\n",
        "    print(\"Localisation: \",personne[2])\n",
        "    print(''  20)\n",
        "personne_Particuliere = int(input('quelle personne ? [0-2]' ))\n",
        "print(\"Nom: \", datas[personne_Particuliere][0])\n",
        "print(\"Age: \",datas[personne_Particuliere][1])\n",
        "print(\"Localisation: \",datas[personne_Particuliere][2])\n",
        "print(''  20)"
      ]
    },
    {
      "cell_type": "code",
      "execution_count": 39,
      "metadata": {},
      "outputs": [
        {
          "data": {
            "text/plain": [
              "{'pommes': 3, 'oranges': 23, 'kiwi': 8}"
            ]
          },
          "execution_count": 39,
          "metadata": {},
          "output_type": "execute_result"
        }
      ],
      "source": [
        "fruits = ['pommes', 'oranges', 'kiwi']\n",
        "quantitees = [3,23,8]\n",
        "commandes = zip(fruits, quantitees)\n",
        "dict(commandes)\n",
        "#tuple(commandes)\n",
        "#list(commandes)"
      ]
    },
    {
      "cell_type": "code",
      "execution_count": 40,
      "metadata": {},
      "outputs": [
        {
          "data": {
            "text/plain": [
              "<zip at 0x1255bf340>"
            ]
          },
          "execution_count": 40,
          "metadata": {},
          "output_type": "execute_result"
        }
      ],
      "source": [
        "commandes"
      ]
    },
    {
      "cell_type": "code",
      "execution_count": 41,
      "metadata": {},
      "outputs": [
        {
          "data": {
            "text/plain": [
              "{}"
            ]
          },
          "execution_count": 41,
          "metadata": {},
          "output_type": "execute_result"
        }
      ],
      "source": [
        "dict(commandes)"
      ]
    }
  ],
  "metadata": {
    "kernelspec": {
      "display_name": "Python 3",
      "language": "python",
      "name": "python3"
    },
    "language_info": {
      "codemirror_mode": {
        "name": "ipython",
        "version": 3
      },
      "file_extension": ".py",
      "mimetype": "text/x-python",
      "name": "python",
      "nbconvert_exporter": "python",
      "pygments_lexer": "ipython3",
      "version": "3.12.0"
    }
  },
  "nbformat": 4,
  "nbformat_minor": 2
}
